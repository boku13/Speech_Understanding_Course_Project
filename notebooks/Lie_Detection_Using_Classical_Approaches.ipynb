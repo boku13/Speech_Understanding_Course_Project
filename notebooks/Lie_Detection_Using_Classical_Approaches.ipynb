{
 "cells": [
  {
   "cell_type": "code",
   "execution_count": 1,
   "id": "8a435a27-5a74-442a-be5e-cfb6ab7952a8",
   "metadata": {},
   "outputs": [],
   "source": [
    "import numpy as np\n",
    "import pandas as pd\n",
    "import librosa\n",
    "import librosa.display\n",
    "import scipy.signal\n",
    "import matplotlib.pyplot as plt\n",
    "from sklearn.svm import SVC\n",
    "from sklearn.ensemble import RandomForestClassifier\n",
    "from sklearn.decomposition import PCA\n",
    "from sklearn.model_selection import train_test_split\n",
    "from sklearn.metrics import accuracy_score, classification_report\n",
    "import os\n"
   ]
  },
  {
   "cell_type": "code",
   "execution_count": 7,
   "id": "f7d89211-653d-4904-b8ed-9d9b5790dae9",
   "metadata": {},
   "outputs": [
    {
     "name": "stdout",
     "output_type": "stream",
     "text": [
      "Collecting pydubNote: you may need to restart the kernel to use updated packages.\n",
      "\n",
      "  Downloading pydub-0.25.1-py2.py3-none-any.whl.metadata (1.4 kB)\n",
      "Downloading pydub-0.25.1-py2.py3-none-any.whl (32 kB)\n",
      "Installing collected packages: pydub\n",
      "Successfully installed pydub-0.25.1\n"
     ]
    }
   ],
   "source": [
    "pip install pydub"
   ]
  },
  {
   "cell_type": "code",
   "execution_count": 2,
   "id": "4e27843c-612c-4131-b11b-d238d49a37f2",
   "metadata": {},
   "outputs": [],
   "source": [
    "from pydub import AudioSegment"
   ]
  },
  {
   "cell_type": "code",
   "execution_count": 3,
   "id": "8762de6d-efd9-4be6-8ec1-447596d9eff7",
   "metadata": {},
   "outputs": [],
   "source": [
    "def load_audio(file_path, sr=16000):\n",
    "    \"\"\"Load audio from an MP4 file and return the signal and sample rate.\"\"\"\n",
    "    audio = AudioSegment.from_file(file_path, format=\"mp4\")\n",
    "    audio = audio.set_frame_rate(sr).set_channels(1)  # Convert to mono\n",
    "    samples = np.array(audio.get_array_of_samples()).astype(np.float32) / 32768.0  # Normalize\n",
    "    return samples, sr\n",
    "\n",
    "def stft_noise_reduction(signal, sr, threshold=0.05):\n",
    "    \"\"\"Apply STFT-based noise reduction.\"\"\"\n",
    "    stft_transform = librosa.stft(signal)\n",
    "    magnitude, phase = np.abs(stft_transform), np.angle(stft_transform)\n",
    "    magnitude[magnitude < threshold * np.max(magnitude)] = 0\n",
    "    denoised_signal = librosa.istft(magnitude * np.exp(1j * phase))\n",
    "    return denoised_signal\n",
    "\n",
    "def extract_mfcc(signal, sr, n_mfcc=13):\n",
    "    \"\"\"Extract MFCC features from the audio signal.\"\"\"\n",
    "    mfccs = librosa.feature.mfcc(y=signal, sr=sr, n_mfcc=n_mfcc)\n",
    "    return np.mean(mfccs, axis=1)  #the mean MFCCs across frames\n",
    "\n",
    "def apply_pca(features, n_components=10):\n",
    "    \"\"\"Apply PCA to reduce feature dimensions.\"\"\"\n",
    "    pca = PCA(n_components=n_components)\n",
    "    reduced_features = pca.fit_transform(features)\n",
    "    return reduced_features\n",
    "\n",
    "def train_svm(X_train, y_train, kernel=\"poly\", degree=3):\n",
    "    \"\"\"Train an SVM classifier.\"\"\"\n",
    "    clf = SVC(kernel=kernel, degree=degree, probability=True)\n",
    "    clf.fit(X_train, y_train)\n",
    "    return clf\n",
    "\n",
    "def train_rf(X_train, y_train, n_estimators=100):\n",
    "    \"\"\"Train a Random Forest classifier.\"\"\"\n",
    "    clf = RandomForestClassifier(n_estimators=n_estimators, random_state=42)\n",
    "    clf.fit(X_train, y_train)\n",
    "    return clf\n"
   ]
  },
  {
   "cell_type": "code",
   "execution_count": 4,
   "id": "68fb9ab1-9722-4c9f-80b0-00fed5477c52",
   "metadata": {},
   "outputs": [],
   "source": [
    "import os\n",
    "from pydub import AudioSegment\n",
    "\n",
    "os.environ[\"FFMPEG_BINARY\"] = r\"C:\\Users\\Neermita Bhattachary\\Downloads\\ffmpeg-7.1-full_build\\ffmpeg-7.1-full_build\\bin\\ffmpeg.exe\"\n",
    "os.environ[\"FFPROBE_BINARY\"] = r\"C:\\Users\\Neermita Bhattachary\\Downloads\\ffmpeg-7.1-full_build\\ffmpeg-7.1-full_build\\bin\\ffprobe.exe\"\n",
    "\n",
    "AudioSegment.converter = os.environ[\"FFMPEG_BINARY\"]\n",
    "AudioSegment.ffprobe = os.environ[\"FFPROBE_BINARY\"]"
   ]
  },
  {
   "cell_type": "code",
   "execution_count": 12,
   "id": "695cb153-3b6b-476f-aee6-3eb79a23b7f7",
   "metadata": {},
   "outputs": [
    {
     "name": "stdout",
     "output_type": "stream",
     "text": [
      "0\n",
      "1\n",
      "2\n",
      "3\n",
      "4\n",
      "5\n",
      "6\n",
      "7\n",
      "8\n",
      "9\n",
      "10\n",
      "11\n",
      "12\n",
      "13\n",
      "14\n",
      "15\n",
      "16\n",
      "17\n",
      "18\n",
      "19\n",
      "20\n",
      "21\n",
      "22\n",
      "23\n",
      "24\n",
      "25\n",
      "26\n",
      "27\n",
      "28\n",
      "29\n",
      "30\n",
      "31\n",
      "32\n",
      "33\n",
      "34\n",
      "35\n",
      "36\n",
      "37\n",
      "38\n",
      "39\n",
      "40\n",
      "41\n",
      "42\n",
      "43\n",
      "44\n",
      "45\n",
      "46\n",
      "47\n",
      "48\n",
      "49\n",
      "50\n",
      "51\n",
      "52\n",
      "53\n",
      "54\n",
      "55\n",
      "56\n",
      "57\n",
      "58\n",
      "59\n",
      "60\n",
      "61\n",
      "62\n",
      "63\n",
      "64\n",
      "65\n",
      "66\n",
      "67\n",
      "68\n",
      "69\n",
      "70\n",
      "71\n",
      "72\n",
      "73\n",
      "74\n",
      "75\n",
      "76\n",
      "77\n",
      "78\n",
      "79\n",
      "80\n",
      "81\n",
      "82\n",
      "83\n",
      "84\n",
      "85\n",
      "86\n",
      "87\n",
      "88\n",
      "89\n",
      "90\n",
      "91\n",
      "92\n",
      "93\n",
      "94\n",
      "95\n",
      "96\n",
      "97\n",
      "98\n",
      "99\n",
      "100\n",
      "101\n",
      "102\n",
      "103\n",
      "104\n",
      "105\n",
      "106\n",
      "107\n",
      "108\n",
      "109\n",
      "110\n",
      "111\n",
      "112\n",
      "113\n",
      "114\n",
      "115\n",
      "116\n",
      "117\n",
      "118\n",
      "119\n",
      "120\n",
      "SVM Classification Accuracy: 68.00%\n",
      "              precision    recall  f1-score   support\n",
      "\n",
      "           0       0.80      0.57      0.67        14\n",
      "           1       0.60      0.82      0.69        11\n",
      "\n",
      "    accuracy                           0.68        25\n",
      "   macro avg       0.70      0.69      0.68        25\n",
      "weighted avg       0.71      0.68      0.68        25\n",
      "\n",
      "Random Forest Classification Accuracy: 76.00%\n",
      "              precision    recall  f1-score   support\n",
      "\n",
      "           0       0.83      0.71      0.77        14\n",
      "           1       0.69      0.82      0.75        11\n",
      "\n",
      "    accuracy                           0.76        25\n",
      "   macro avg       0.76      0.77      0.76        25\n",
      "weighted avg       0.77      0.76      0.76        25\n",
      "\n"
     ]
    },
    {
     "data": {
      "image/png": "[encoded data removed]",
      "text/plain": [
       "<Figure size 800x600 with 2 Axes>"
      ]
     },
     "metadata": {},
     "output_type": "display_data"
    },
    {
     "data": {
      "image/png": "[encoded data removed]",
      "text/plain": [
       "<Figure size 800x600 with 2 Axes>"
      ]
     },
     "metadata": {},
     "output_type": "display_data"
    }
   ],
   "source": [
    "from sklearn.metrics import confusion_matrix\n",
    "import seaborn as sns\n",
    "#annotation !! more features !!\n",
    "annotation_path = \"RealLifeDeceptionDetection.2016/Real-life_Deception_Detection_2016/Annotation/All_Gestures_Deceptive and Truthful.csv\"\n",
    "annotations = pd.read_csv(annotation_path)\n",
    "annotations=annotations.drop(columns=[\"class\"])\n",
    "truthful_dir = \"RealLifeDeceptionDetection.2016/Real-life_Deception_Detection_2016/Clips/Truthful/\"\n",
    "deceptive_dir = \"RealLifeDeceptionDetection.2016/Real-life_Deception_Detection_2016/Clips/Deceptive/\"\n",
    "X, y= [], []\n",
    "features_df = []\n",
    "\n",
    "for i, row in annotations.iterrows():\n",
    "    print(i)\n",
    "    file_name = row['id']\n",
    "    file_path = os.path.join(truthful_dir if 'truth' in file_name else deceptive_dir, file_name)\n",
    "    \n",
    "    if os.path.exists(file_path):\n",
    "        signal, sr = load_audio(file_path)\n",
    "        clean_signal = stft_noise_reduction(signal, sr)\n",
    "        mfcc_features = extract_mfcc(clean_signal, sr)\n",
    "        annotation_features = row.iloc[1:].values.astype(float)\n",
    "        combined_features = np.concatenate((mfcc_features, annotation_features))\n",
    "        \n",
    "        X.append(combined_features)\n",
    "        y.append(1 if 'truth' in file_name else 0)\n",
    "\n",
    "X, y = np.array(X), np.array(y)\n",
    "X_pca = apply_pca(X, n_components=10)\n",
    "\n",
    "X_train, X_test, y_train, y_test = train_test_split(X_pca, y, test_size=0.2, random_state=42)\n",
    "\n",
    "#SVM\n",
    "svm_model = train_svm(X_train, y_train, kernel=\"rbf\")\n",
    "y_pred_svm = svm_model.predict(X_test)\n",
    "acc_svm = accuracy_score(y_test, y_pred_svm)\n",
    "print(f\"SVM Classification Accuracy: {acc_svm * 100:.2f}%\")\n",
    "print(classification_report(y_test, y_pred_svm))\n",
    "\n",
    "#Random Forest\n",
    "rf_model = train_rf(X_train, y_train, n_estimators=100)\n",
    "y_pred_rf = rf_model.predict(X_test)\n",
    "acc_rf = accuracy_score(y_test, y_pred_rf)\n",
    "print(f\"Random Forest Classification Accuracy: {acc_rf * 100:.2f}%\")\n",
    "print(classification_report(y_test, y_pred_rf))\n",
    "\n",
    "cm_svm = confusion_matrix(y_test, y_pred_svm)\n",
    "plt.figure(figsize=(8, 6))\n",
    "sns.heatmap(cm_svm, annot=True, fmt='d', cmap='Blues')\n",
    "plt.title(\"SVM Confusion Matrix\")\n",
    "plt.xlabel(\"Predicted Label\")\n",
    "plt.ylabel(\"True Label\")\n",
    "plt.savefig(\"svm_confusion_matrix.png\")  # Save the figure\n",
    "plt.show()\n",
    "\n",
    "# Random Forest Confusion Matrix\n",
    "cm_rf = confusion_matrix(y_test, y_pred_rf)\n",
    "plt.figure(figsize=(8, 6))\n",
    "sns.heatmap(cm_rf, annot=True, fmt='d', cmap='Blues')\n",
    "plt.title(\"Random Forest Confusion Matrix\")\n",
    "plt.xlabel(\"Predicted Label\")\n",
    "plt.ylabel(\"True Label\")\n",
    "plt.savefig(\"rf_confusion_matrix.png\")  # Save the figure\n",
    "plt.show()"
   ]
  },
  {
   "cell_type": "code",
   "execution_count": 13,
   "id": "6ebceebe-4b50-426e-a597-b027e8ab5d11",
   "metadata": {},
   "outputs": [
    {
     "data": {
      "text/plain": [
       "(96, 10)"
      ]
     },
     "execution_count": 13,
     "metadata": {},
     "output_type": "execute_result"
    }
   ],
   "source": [
    "X_train.shape"
   ]
  },
  {
   "cell_type": "code",
   "execution_count": 14,
   "id": "91aee2f7-0e3b-42fc-82d9-1aff89573659",
   "metadata": {},
   "outputs": [
    {
     "data": {
      "text/plain": [
       "(25, 10)"
      ]
     },
     "execution_count": 14,
     "metadata": {},
     "output_type": "execute_result"
    }
   ],
   "source": [
    " X_test.shape"
   ]
  },
  {
   "cell_type": "code",
   "execution_count": 15,
   "id": "882e30cb-c099-4f11-935b-7f4036ebf8da",
   "metadata": {},
   "outputs": [
    {
     "data": {
      "text/plain": [
       "(96,)"
      ]
     },
     "execution_count": 15,
     "metadata": {},
     "output_type": "execute_result"
    }
   ],
   "source": [
    " y_train.shape"
   ]
  },
  {
   "cell_type": "code",
   "execution_count": 16,
   "id": "5995e53d-601c-4733-a1f1-9ed97ed6bb4b",
   "metadata": {},
   "outputs": [
    {
     "data": {
      "text/plain": [
       "(25,)"
      ]
     },
     "execution_count": 16,
     "metadata": {},
     "output_type": "execute_result"
    }
   ],
   "source": [
    "y_test.shape"
   ]
  },
  {
   "cell_type": "code",
   "execution_count": 18,
   "id": "57efee2a-29ce-45b3-bda7-38a2dbbb5c66",
   "metadata": {},
   "outputs": [
    {
     "data": {
      "text/plain": [
       "(121, 52)"
      ]
     },
     "execution_count": 18,
     "metadata": {},
     "output_type": "execute_result"
    }
   ],
   "source": [
    "X.shape"
   ]
  },
  {
   "cell_type": "code",
   "execution_count": 20,
   "id": "903dbb97-3431-4bf4-b6b8-17b0ba6bf9b1",
   "metadata": {},
   "outputs": [
    {
     "data": {
      "text/plain": [
       "(39,)"
      ]
     },
     "execution_count": 20,
     "metadata": {},
     "output_type": "execute_result"
    }
   ],
   "source": [
    "annotation_features.shape"
   ]
  },
  {
   "cell_type": "code",
   "execution_count": null,
   "id": "7d4c7f71-c55e-4133-bd45-b7e9dc9ebfa0",
   "metadata": {},
   "outputs": [],
   "source": []
  }
 ],
 "metadata": {
  "kernelspec": {
   "display_name": "Python 3 (ipykernel)",
   "language": "python",
   "name": "python3"
  },
  "language_info": {
   "codemirror_mode": {
    "name": "ipython",
    "version": 3
   },
   "file_extension": ".py",
   "mimetype": "text/x-python",
   "name": "python",
   "nbconvert_exporter": "python",
   "pygments_lexer": "ipython3",
   "version": "3.12.4"
  }
 },
 "nbformat": 4,
 "nbformat_minor": 5
}
